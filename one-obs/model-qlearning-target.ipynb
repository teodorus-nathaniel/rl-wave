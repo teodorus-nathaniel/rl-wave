{
 "cells": [
  {
   "cell_type": "code",
   "execution_count": null,
   "metadata": {},
   "outputs": [],
   "source": [
    "from mlagents_envs.environment import ActionTuple, UnityEnvironment, BaseEnv\n",
    "from mlagents_envs.side_channel.engine_configuration_channel import EngineConfigurationChannel\n",
    "import numpy as np\n",
    "import torch\n",
    "import random\n",
    "from collections import deque\n",
    "import copy\n",
    "import matplotlib.pyplot as plt"
   ]
  },
  {
   "cell_type": "code",
   "execution_count": null,
   "metadata": {},
   "outputs": [],
   "source": [
    "channel = EngineConfigurationChannel()\n",
    "env = UnityEnvironment(file_name='./Wave', seed=1, side_channels=[channel])\n",
    "channel.set_configuration_parameters(time_scale = 40)\n",
    "print(\"WAVE environment created.\")"
   ]
  },
  {
   "cell_type": "code",
   "execution_count": null,
   "metadata": {},
   "outputs": [],
   "source": [
    "def copy_model(model):\n",
    "    model2 = copy.deepcopy(model)\n",
    "    model2.load_state_dict(model.state_dict())\n",
    "    return model2"
   ]
  },
  {
   "cell_type": "code",
   "execution_count": null,
   "metadata": {},
   "outputs": [],
   "source": [
    "l1 = 64\n",
    "l2 = 512\n",
    "l3 = 512\n",
    "l4 = 2\n",
    "\n",
    "model = torch.nn.Sequential(\n",
    "  torch.nn.Linear(l1, l2),\n",
    "  torch.nn.ReLU(),\n",
    "  torch.nn.Linear(l2, l3),\n",
    "  torch.nn.ReLU(),\n",
    "  torch.nn.Linear(l3, l4),\n",
    ")\n",
    "model_copy = copy_model(model)\n",
    "\n",
    "learning_rate = 1e-4\n",
    "optimizer = torch.optim.Adam(model.parameters(), lr=learning_rate)"
   ]
  },
  {
   "cell_type": "code",
   "execution_count": null,
   "metadata": {},
   "outputs": [],
   "source": [
    "def loss_fn(pred, target):\n",
    "    return torch.mean(0.5 * (pred - target) ** 2)\n",
    "\n",
    "def preprocess_input(inp):\n",
    "    return np.append(inp.obs[1], inp.obs[0], axis=1)"
   ]
  },
  {
   "cell_type": "code",
   "execution_count": null,
   "metadata": {},
   "outputs": [],
   "source": [
    "model_path = './models/qlearning-target-multi-obs.path'\n",
    "try:\n",
    "    model.load_state_dict(torch.load(model_path))\n",
    "    print('Model loaded')\n",
    "except:\n",
    "    print('No model available')"
   ]
  },
  {
   "cell_type": "code",
   "execution_count": null,
   "metadata": {},
   "outputs": [],
   "source": [
    "EPOCH = 2000\n",
    "MEM_SIZE = 2500\n",
    "MIN_EPSILON = .05\n",
    "MAX_STEP = 500\n",
    "BATCH_SIZE = 256\n",
    "GAMMA = 0.9\n",
    "SYNC_INTERVAL = 1000\n",
    "\n",
    "epsilon = 1\n",
    "\n",
    "losses = []\n",
    "all_rewards = []\n",
    "all_timesteps = []\n",
    "experiences = deque(maxlen=MEM_SIZE)\n",
    "\n",
    "k = 0\n",
    "for i in range(EPOCH):\n",
    "    env.reset()\n",
    "    behavior_name = list(env.behavior_specs)[0]\n",
    "\n",
    "    j = 0\n",
    "    epoch_rewards = []\n",
    "    while j < MAX_STEP:\n",
    "        j += 1\n",
    "        k += 1\n",
    "        decision_steps, terminal_steps = env.get_steps(behavior_name)\n",
    "        if (len(terminal_steps) > 0):\n",
    "            break\n",
    "\n",
    "        state = torch.Tensor(preprocess_input(decision_steps))\n",
    "\n",
    "        qval = model(state)\n",
    "        if np.random.rand() > epsilon:\n",
    "            # exploit\n",
    "            action = np.argmax(qval.detach().numpy())\n",
    "        else:\n",
    "            # explore\n",
    "            action = np.random.randint(0, 2)\n",
    "\n",
    "        action_tuple = ActionTuple()\n",
    "        action_tuple.add_discrete(np.array([[action]]))\n",
    "        env.set_actions(behavior_name, action_tuple)\n",
    "        env.step()\n",
    "\n",
    "        new_decision_steps, new_terminal_steps = env.get_steps(behavior_name)\n",
    "        current_step = new_decision_steps if len(new_terminal_steps) == 0 else new_terminal_steps\n",
    "        reward = current_step.reward[0]\n",
    "\n",
    "        epoch_rewards.append(reward)\n",
    "    \n",
    "        state2 = torch.Tensor(preprocess_input(current_step))\n",
    "        done = len(new_terminal_steps) > 0\n",
    "\n",
    "        current_exp = (state, action, reward, state2, done)\n",
    "        experiences.append(current_exp)\n",
    "\n",
    "        if len(experiences) >= BATCH_SIZE:\n",
    "            batch = random.sample(experiences, BATCH_SIZE)\n",
    "\n",
    "            states = torch.cat([s for (s, a, r, s2, done) in batch])\n",
    "            actions = torch.Tensor([a for (s, a, r, s2, done) in batch])\n",
    "            states2 = torch.cat([s2 for (s, a, r, s2, done) in batch])\n",
    "            done_data = torch.Tensor([done for (s, a, r, s2, done) in batch])\n",
    "            rewards = torch.Tensor([r for (s, a, r, s2, done) in batch])\n",
    "\n",
    "            qvals = model(states)\n",
    "\n",
    "            with torch.no_grad():\n",
    "                qvals_2 = model_copy(states2)\n",
    "\n",
    "            target = rewards + GAMMA * ((1 - done_data) * torch.max(qvals_2, dim=1)[0])\n",
    "            action_qval_pred = qvals.gather(dim=1, index=actions.long().unsqueeze(dim=1)).squeeze()\n",
    "            err = loss_fn(action_qval_pred, target.detach())\n",
    "            losses.append(err.item())\n",
    "\n",
    "            optimizer.zero_grad()\n",
    "            err.backward()\n",
    "            optimizer.step()\n",
    "        \n",
    "        if k % SYNC_INTERVAL == 0:\n",
    "            model_copy = copy_model(model)\n",
    "\n",
    "    current_reward = np.sum(epoch_rewards)\n",
    "    all_rewards.append(current_reward)\n",
    "    all_timesteps.append(j)\n",
    "    print(f'EPOCH: {i}, total reward: {current_reward}, timestep: {j}, epsilon: {epsilon}')\n",
    "    if epsilon > MIN_EPSILON:\n",
    "        epsilon -= 1 / EPOCH\n",
    "\n",
    "env.close()"
   ]
  },
  {
   "cell_type": "code",
   "execution_count": null,
   "metadata": {},
   "outputs": [],
   "source": [
    "def avg_per_x_element(data, x=10):\n",
    "    avg = []\n",
    "    sum = 0\n",
    "    for i, el in enumerate(data):\n",
    "        sum += el\n",
    "        if i % x == 0:\n",
    "            avg.append(sum / x)\n",
    "            sum = 0\n",
    "    return avg"
   ]
  },
  {
   "cell_type": "code",
   "execution_count": null,
   "metadata": {},
   "outputs": [],
   "source": [
    "plt.plot(avg_per_x_element(losses))"
   ]
  },
  {
   "cell_type": "code",
   "execution_count": null,
   "metadata": {},
   "outputs": [],
   "source": [
    "plt.plot(avg_per_x_element(all_rewards))"
   ]
  },
  {
   "cell_type": "code",
   "execution_count": null,
   "metadata": {},
   "outputs": [],
   "source": [
    "torch.save(model.state_dict(), model_path)\n",
    "print('Saved model')"
   ]
  },
  {
   "cell_type": "code",
   "execution_count": null,
   "metadata": {},
   "outputs": [],
   "source": [
    "def test_model(model, time_scale=3, debug=False):\n",
    "    channel = EngineConfigurationChannel()\n",
    "    env = UnityEnvironment(file_name='./Wave', seed=1, side_channels=[channel])\n",
    "    channel.set_configuration_parameters(time_scale = time_scale)\n",
    "    print(\"WAVE environment created.\")\n",
    "\n",
    "    env.reset()\n",
    "    i = 0\n",
    "    GAMMA = 0.95\n",
    "    total_reward = 0\n",
    "    while True:\n",
    "        i += 1\n",
    "        behavior_name = list(env.behavior_specs)[0]\n",
    "\n",
    "        decision_steps, terminal_steps = env.get_steps(behavior_name)\n",
    "        if (len(terminal_steps) > 0):\n",
    "            break\n",
    "\n",
    "        preds = model(torch.Tensor(preprocess_input(decision_steps))).detach().numpy()\n",
    "\n",
    "        action = np.argmax(preds)\n",
    "        action_tuple = ActionTuple()\n",
    "        action_tuple.add_discrete(np.array([[action]]))\n",
    "        env.set_actions(behavior_name, action_tuple)\n",
    "        env.step()\n",
    "\n",
    "        new_decision_steps, new_terminal_steps = env.get_steps(behavior_name)\n",
    "        current_step = new_decision_steps if len(new_terminal_steps) == 0 else new_terminal_steps\n",
    "        reward = current_step.reward[0]\n",
    "\n",
    "        total_reward += reward\n",
    "\n",
    "        qvals_2 = model(torch.Tensor(preprocess_input(current_step)))\n",
    "        target = reward + GAMMA * ((1 - int(len(new_terminal_steps) > 0)) * torch.max(qvals_2, dim=1)[0])\n",
    "        if debug:\n",
    "            print(i, 'Decision Steps', preprocess_input(decision_steps), 'Preds', preds, 'Selected Preds', np.argmax(preds), 'Done?', int(len(new_terminal_steps) > 0), 'Next Preds', ((1 - int(len(new_terminal_steps) > 0)) * torch.max(qvals_2, dim=1)[0]), 'Target', target, 'Reward', reward, sep='\\n')\n",
    "            print('==================================')\n",
    "\n",
    "    env.close()\n",
    "    return total_reward, i\n",
    "\n",
    "def test_model_avg(model, count=20, time_scale=10):\n",
    "    sum_reward = 0\n",
    "    sum_timesteps = 0\n",
    "    for _ in range(count):\n",
    "        reward, timesteps = test_model(model, time_scale)\n",
    "        sum_timesteps += timesteps\n",
    "        sum_reward += reward\n",
    "    return sum / count"
   ]
  },
  {
   "cell_type": "code",
   "execution_count": null,
   "metadata": {},
   "outputs": [],
   "source": [
    "test_model(model)"
   ]
  },
  {
   "cell_type": "code",
   "execution_count": null,
   "metadata": {},
   "outputs": [],
   "source": [
    "test_model_avg(model)"
   ]
  }
 ],
 "metadata": {
  "interpreter": {
   "hash": "ca9c2878fbaf906546635f1e51bfc073e4e43dd47adf91e04b336b35cf7c5ff3"
  },
  "kernelspec": {
   "display_name": "Python 3.9.6 64-bit (system)",
   "language": "python",
   "name": "python3"
  },
  "language_info": {
   "codemirror_mode": {
    "name": "ipython",
    "version": 3
   },
   "file_extension": ".py",
   "mimetype": "text/x-python",
   "name": "python",
   "nbconvert_exporter": "python",
   "pygments_lexer": "ipython3",
   "version": "3.9.6"
  },
  "orig_nbformat": 4
 },
 "nbformat": 4,
 "nbformat_minor": 2
}
