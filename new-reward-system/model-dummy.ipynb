{
 "cells": [
  {
   "cell_type": "code",
   "execution_count": 1,
   "metadata": {},
   "outputs": [],
   "source": [
    "from mlagents_envs.environment import ActionTuple, UnityEnvironment, BaseEnv\n",
    "from mlagents_envs.side_channel.engine_configuration_channel import EngineConfigurationChannel\n",
    "import numpy as np\n",
    "import torch\n",
    "import random\n",
    "from collections import deque"
   ]
  },
  {
   "cell_type": "code",
   "execution_count": 3,
   "metadata": {},
   "outputs": [
    {
     "name": "stdout",
     "output_type": "stream",
     "text": [
      "WAVE environment created.\n"
     ]
    }
   ],
   "source": [
    "# env = UnityEnvironment(seed=1)\n",
    "channel = EngineConfigurationChannel()\n",
    "env = UnityEnvironment(file_name='./Wave', seed=1, side_channels=[channel])\n",
    "channel.set_configuration_parameters(time_scale = 1)\n",
    "print(\"WAVE environment created.\")"
   ]
  },
  {
   "cell_type": "code",
   "execution_count": 4,
   "metadata": {},
   "outputs": [
    {
     "name": "stdout",
     "output_type": "stream",
     "text": [
      "hit\n",
      "hit\n",
      "hit\n",
      "hit\n",
      "hit\n",
      "hit\n",
      "hit\n",
      "hit\n",
      "hit\n"
     ]
    },
    {
     "ename": "UnityCommunicatorStoppedException",
     "evalue": "Communicator has exited.",
     "output_type": "error",
     "traceback": [
      "\u001b[1;31m---------------------------------------------------------------------------\u001b[0m",
      "\u001b[1;31mUnityCommunicatorStoppedException\u001b[0m         Traceback (most recent call last)",
      "\u001b[1;32me:\\Nathan\\!SKRIPSI\\rl-wave\\new-reward-system\\model-dummy.ipynb Cell 3'\u001b[0m in \u001b[0;36m<cell line: 3>\u001b[1;34m()\u001b[0m\n\u001b[0;32m     <a href='vscode-notebook-cell:/e%3A/Nathan/%21SKRIPSI/rl-wave/new-reward-system/model-dummy.ipynb#ch0000002?line=17'>18</a>\u001b[0m         action_tuple\u001b[39m.\u001b[39madd_discrete(np\u001b[39m.\u001b[39marray([[action]]))\n\u001b[0;32m     <a href='vscode-notebook-cell:/e%3A/Nathan/%21SKRIPSI/rl-wave/new-reward-system/model-dummy.ipynb#ch0000002?line=18'>19</a>\u001b[0m         env\u001b[39m.\u001b[39mset_actions(behavior_name, action_tuple)\n\u001b[1;32m---> <a href='vscode-notebook-cell:/e%3A/Nathan/%21SKRIPSI/rl-wave/new-reward-system/model-dummy.ipynb#ch0000002?line=19'>20</a>\u001b[0m         env\u001b[39m.\u001b[39;49mstep()\n\u001b[0;32m     <a href='vscode-notebook-cell:/e%3A/Nathan/%21SKRIPSI/rl-wave/new-reward-system/model-dummy.ipynb#ch0000002?line=21'>22</a>\u001b[0m env\u001b[39m.\u001b[39mclose()\n",
      "File \u001b[1;32m~\\.pyenv\\pyenv-win\\versions\\3.9.6\\lib\\site-packages\\mlagents_envs\\timers.py:305\u001b[0m, in \u001b[0;36mtimed.<locals>.wrapped\u001b[1;34m(*args, **kwargs)\u001b[0m\n\u001b[0;32m    <a href='file:///c%3A/Users/USER/.pyenv/pyenv-win/versions/3.9.6/lib/site-packages/mlagents_envs/timers.py?line=302'>303</a>\u001b[0m \u001b[39mdef\u001b[39;00m \u001b[39mwrapped\u001b[39m(\u001b[39m*\u001b[39margs, \u001b[39m*\u001b[39m\u001b[39m*\u001b[39mkwargs):\n\u001b[0;32m    <a href='file:///c%3A/Users/USER/.pyenv/pyenv-win/versions/3.9.6/lib/site-packages/mlagents_envs/timers.py?line=303'>304</a>\u001b[0m     \u001b[39mwith\u001b[39;00m hierarchical_timer(func\u001b[39m.\u001b[39m\u001b[39m__qualname__\u001b[39m):\n\u001b[1;32m--> <a href='file:///c%3A/Users/USER/.pyenv/pyenv-win/versions/3.9.6/lib/site-packages/mlagents_envs/timers.py?line=304'>305</a>\u001b[0m         \u001b[39mreturn\u001b[39;00m func(\u001b[39m*\u001b[39margs, \u001b[39m*\u001b[39m\u001b[39m*\u001b[39mkwargs)\n",
      "File \u001b[1;32m~\\.pyenv\\pyenv-win\\versions\\3.9.6\\lib\\site-packages\\mlagents_envs\\environment.py:335\u001b[0m, in \u001b[0;36mUnityEnvironment.step\u001b[1;34m(self)\u001b[0m\n\u001b[0;32m    <a href='file:///c%3A/Users/USER/.pyenv/pyenv-win/versions/3.9.6/lib/site-packages/mlagents_envs/environment.py?line=332'>333</a>\u001b[0m     outputs \u001b[39m=\u001b[39m \u001b[39mself\u001b[39m\u001b[39m.\u001b[39m_communicator\u001b[39m.\u001b[39mexchange(step_input, \u001b[39mself\u001b[39m\u001b[39m.\u001b[39m_poll_process)\n\u001b[0;32m    <a href='file:///c%3A/Users/USER/.pyenv/pyenv-win/versions/3.9.6/lib/site-packages/mlagents_envs/environment.py?line=333'>334</a>\u001b[0m \u001b[39mif\u001b[39;00m outputs \u001b[39mis\u001b[39;00m \u001b[39mNone\u001b[39;00m:\n\u001b[1;32m--> <a href='file:///c%3A/Users/USER/.pyenv/pyenv-win/versions/3.9.6/lib/site-packages/mlagents_envs/environment.py?line=334'>335</a>\u001b[0m     \u001b[39mraise\u001b[39;00m UnityCommunicatorStoppedException(\u001b[39m\"\u001b[39m\u001b[39mCommunicator has exited.\u001b[39m\u001b[39m\"\u001b[39m)\n\u001b[0;32m    <a href='file:///c%3A/Users/USER/.pyenv/pyenv-win/versions/3.9.6/lib/site-packages/mlagents_envs/environment.py?line=335'>336</a>\u001b[0m \u001b[39mself\u001b[39m\u001b[39m.\u001b[39m_update_behavior_specs(outputs)\n\u001b[0;32m    <a href='file:///c%3A/Users/USER/.pyenv/pyenv-win/versions/3.9.6/lib/site-packages/mlagents_envs/environment.py?line=336'>337</a>\u001b[0m rl_output \u001b[39m=\u001b[39m outputs\u001b[39m.\u001b[39mrl_output\n",
      "\u001b[1;31mUnityCommunicatorStoppedException\u001b[0m: Communicator has exited."
     ]
    }
   ],
   "source": [
    "EPOCH = 10\n",
    "MAX_STEP = 1000000\n",
    "for i in range(EPOCH):\n",
    "    env.reset()\n",
    "    behavior_name = list(env.behavior_specs)[0]\n",
    "    j = 0\n",
    "    while j < MAX_STEP:\n",
    "        j += 1\n",
    "        decision_steps, terminal_steps = env.get_steps(behavior_name)\n",
    "        reward = (decision_steps if len(terminal_steps) == 0 else terminal_steps).reward\n",
    "        if reward > 1:\n",
    "            print('hit')\n",
    "        if (len(terminal_steps) > 0):\n",
    "            break\n",
    "\n",
    "        action = np.random.randint(0, 2)\n",
    "        action_tuple = ActionTuple()\n",
    "        action_tuple.add_discrete(np.array([[action]]))\n",
    "        env.set_actions(behavior_name, action_tuple)\n",
    "        env.step()\n",
    "\n",
    "env.close()"
   ]
  },
  {
   "cell_type": "code",
   "execution_count": 5,
   "metadata": {},
   "outputs": [],
   "source": [
    "env.close()"
   ]
  }
 ],
 "metadata": {
  "interpreter": {
   "hash": "ca9c2878fbaf906546635f1e51bfc073e4e43dd47adf91e04b336b35cf7c5ff3"
  },
  "kernelspec": {
   "display_name": "Python 3.9.6 64-bit (system)",
   "language": "python",
   "name": "python3"
  },
  "language_info": {
   "codemirror_mode": {
    "name": "ipython",
    "version": 3
   },
   "file_extension": ".py",
   "mimetype": "text/x-python",
   "name": "python",
   "nbconvert_exporter": "python",
   "pygments_lexer": "ipython3",
   "version": "3.9.6"
  },
  "orig_nbformat": 4
 },
 "nbformat": 4,
 "nbformat_minor": 2
}
