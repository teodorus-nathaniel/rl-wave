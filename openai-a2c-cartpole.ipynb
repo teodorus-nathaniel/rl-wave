{
 "cells": [
  {
   "cell_type": "code",
   "execution_count": 1,
   "metadata": {},
   "outputs": [],
   "source": [
    "sys.path.insert(0, './common')\n",
    "\n",
    "import sys\n",
    "import gym"
   ]
  },
  {
   "cell_type": "code",
   "execution_count": 2,
   "metadata": {},
   "outputs": [],
   "source": [
    "env = gym.make(\"CartPole-v1\")"
   ]
  },
  {
   "cell_type": "code",
   "execution_count": 3,
   "metadata": {},
   "outputs": [
    {
     "name": "stderr",
     "output_type": "stream",
     "text": [
      "c:\\Users\\nathan\\AppData\\Local\\Programs\\Python\\Python310\\lib\\site-packages\\tqdm\\auto.py:22: TqdmWarning: IProgress not found. Please update jupyter and ipywidgets. See https://ipywidgets.readthedocs.io/en/stable/user_install.html\n",
      "  from .autonotebook import tqdm as notebook_tqdm\n"
     ]
    },
    {
     "name": "stdout",
     "output_type": "stream",
     "text": [
      "Using cpu device\n",
      "Wrapping the env with a `Monitor` wrapper\n",
      "Wrapping the env in a DummyVecEnv.\n",
      "Logging to ./a2c_tensorboard/A2C_1\n",
      "------------------------------------\n",
      "| rollout/              |          |\n",
      "|    ep_len_mean        | 316      |\n",
      "|    ep_rew_mean        | 316      |\n",
      "| time/                 |          |\n",
      "|    fps                | 4363     |\n",
      "|    iterations         | 100      |\n",
      "|    time_elapsed       | 22       |\n",
      "|    total_timesteps    | 100000   |\n",
      "| train/                |          |\n",
      "|    entropy_loss       | -0.54    |\n",
      "|    explained_variance | 0.0143   |\n",
      "|    learning_rate      | 0.001    |\n",
      "|    n_updates          | 99       |\n",
      "|    policy_loss        | 30.8     |\n",
      "|    value_loss         | 3.76e+03 |\n",
      "------------------------------------\n",
      "------------------------------------\n",
      "| rollout/              |          |\n",
      "|    ep_len_mean        | 394      |\n",
      "|    ep_rew_mean        | 394      |\n",
      "| time/                 |          |\n",
      "|    fps                | 4765     |\n",
      "|    iterations         | 200      |\n",
      "|    time_elapsed       | 41       |\n",
      "|    total_timesteps    | 200000   |\n",
      "| train/                |          |\n",
      "|    entropy_loss       | -0.539   |\n",
      "|    explained_variance | 0.000324 |\n",
      "|    learning_rate      | 0.001    |\n",
      "|    n_updates          | 199      |\n",
      "|    policy_loss        | 28.7     |\n",
      "|    value_loss         | 3.25e+03 |\n",
      "------------------------------------\n",
      "------------------------------------\n",
      "| rollout/              |          |\n",
      "|    ep_len_mean        | 452      |\n",
      "|    ep_rew_mean        | 452      |\n",
      "| time/                 |          |\n",
      "|    fps                | 4952     |\n",
      "|    iterations         | 300      |\n",
      "|    time_elapsed       | 60       |\n",
      "|    total_timesteps    | 300000   |\n",
      "| train/                |          |\n",
      "|    entropy_loss       | -0.52    |\n",
      "|    explained_variance | 0.00209  |\n",
      "|    learning_rate      | 0.001    |\n",
      "|    n_updates          | 299      |\n",
      "|    policy_loss        | 26.5     |\n",
      "|    value_loss         | 2.64e+03 |\n",
      "------------------------------------\n",
      "------------------------------------\n",
      "| rollout/              |          |\n",
      "|    ep_len_mean        | 494      |\n",
      "|    ep_rew_mean        | 494      |\n",
      "| time/                 |          |\n",
      "|    fps                | 5017     |\n",
      "|    iterations         | 400      |\n",
      "|    time_elapsed       | 79       |\n",
      "|    total_timesteps    | 400000   |\n",
      "| train/                |          |\n",
      "|    entropy_loss       | -0.524   |\n",
      "|    explained_variance | 0.000141 |\n",
      "|    learning_rate      | 0.001    |\n",
      "|    n_updates          | 399      |\n",
      "|    policy_loss        | 21.5     |\n",
      "|    value_loss         | 1.9e+03  |\n",
      "------------------------------------\n",
      "-------------------------------------\n",
      "| rollout/              |           |\n",
      "|    ep_len_mean        | 491       |\n",
      "|    ep_rew_mean        | 491       |\n",
      "| time/                 |           |\n",
      "|    fps                | 5042      |\n",
      "|    iterations         | 500       |\n",
      "|    time_elapsed       | 99        |\n",
      "|    total_timesteps    | 500000    |\n",
      "| train/                |           |\n",
      "|    entropy_loss       | -0.522    |\n",
      "|    explained_variance | -5.72e-06 |\n",
      "|    learning_rate      | 0.001     |\n",
      "|    n_updates          | 499       |\n",
      "|    policy_loss        | 16.3      |\n",
      "|    value_loss         | 1.35e+03  |\n",
      "-------------------------------------\n",
      "-------------------------------------\n",
      "| rollout/              |           |\n",
      "|    ep_len_mean        | 488       |\n",
      "|    ep_rew_mean        | 488       |\n",
      "| time/                 |           |\n",
      "|    fps                | 5092      |\n",
      "|    iterations         | 600       |\n",
      "|    time_elapsed       | 117       |\n",
      "|    total_timesteps    | 600000    |\n",
      "| train/                |           |\n",
      "|    entropy_loss       | -0.494    |\n",
      "|    explained_variance | -0.000239 |\n",
      "|    learning_rate      | 0.001     |\n",
      "|    n_updates          | 599       |\n",
      "|    policy_loss        | 14.6      |\n",
      "|    value_loss         | 1.08e+03  |\n",
      "-------------------------------------\n",
      "-------------------------------------\n",
      "| rollout/              |           |\n",
      "|    ep_len_mean        | 500       |\n",
      "|    ep_rew_mean        | 500       |\n",
      "| time/                 |           |\n",
      "|    fps                | 5141      |\n",
      "|    iterations         | 700       |\n",
      "|    time_elapsed       | 136       |\n",
      "|    total_timesteps    | 700000    |\n",
      "| train/                |           |\n",
      "|    entropy_loss       | -0.46     |\n",
      "|    explained_variance | -0.000176 |\n",
      "|    learning_rate      | 0.001     |\n",
      "|    n_updates          | 699       |\n",
      "|    policy_loss        | 13        |\n",
      "|    value_loss         | 818       |\n",
      "-------------------------------------\n",
      "-------------------------------------\n",
      "| rollout/              |           |\n",
      "|    ep_len_mean        | 496       |\n",
      "|    ep_rew_mean        | 496       |\n",
      "| time/                 |           |\n",
      "|    fps                | 5188      |\n",
      "|    iterations         | 800       |\n",
      "|    time_elapsed       | 154       |\n",
      "|    total_timesteps    | 800000    |\n",
      "| train/                |           |\n",
      "|    entropy_loss       | -0.437    |\n",
      "|    explained_variance | -6.03e-05 |\n",
      "|    learning_rate      | 0.001     |\n",
      "|    n_updates          | 799       |\n",
      "|    policy_loss        | 9.05      |\n",
      "|    value_loss         | 525       |\n",
      "-------------------------------------\n",
      "-------------------------------------\n",
      "| rollout/              |           |\n",
      "|    ep_len_mean        | 491       |\n",
      "|    ep_rew_mean        | 491       |\n",
      "| time/                 |           |\n",
      "|    fps                | 5231      |\n",
      "|    iterations         | 900       |\n",
      "|    time_elapsed       | 172       |\n",
      "|    total_timesteps    | 900000    |\n",
      "| train/                |           |\n",
      "|    entropy_loss       | -0.399    |\n",
      "|    explained_variance | -6.35e-05 |\n",
      "|    learning_rate      | 0.001     |\n",
      "|    n_updates          | 899       |\n",
      "|    policy_loss        | 6.7       |\n",
      "|    value_loss         | 311       |\n",
      "-------------------------------------\n",
      "-------------------------------------\n",
      "| rollout/              |           |\n",
      "|    ep_len_mean        | 500       |\n",
      "|    ep_rew_mean        | 500       |\n",
      "| time/                 |           |\n",
      "|    fps                | 5259      |\n",
      "|    iterations         | 1000      |\n",
      "|    time_elapsed       | 190       |\n",
      "|    total_timesteps    | 1000000   |\n",
      "| train/                |           |\n",
      "|    entropy_loss       | -0.429    |\n",
      "|    explained_variance | -7.72e-05 |\n",
      "|    learning_rate      | 0.001     |\n",
      "|    n_updates          | 999       |\n",
      "|    policy_loss        | 5.12      |\n",
      "|    value_loss         | 169       |\n",
      "-------------------------------------\n"
     ]
    },
    {
     "data": {
      "text/plain": [
       "<stable_baselines3.a2c.a2c.A2C at 0x23841447040>"
      ]
     },
     "execution_count": 3,
     "metadata": {},
     "output_type": "execute_result"
    }
   ],
   "source": [
    "from stable_baselines3 import A2C\n",
    "\n",
    "model = A2C(\"MlpPolicy\", env, verbose=1, gamma=0.99, learning_rate=1e-3, tensorboard_log=\"./a2c_tensorboard/\", n_steps=1000)\n",
    "model.learn(total_timesteps=1000000)"
   ]
  },
  {
   "cell_type": "code",
   "execution_count": 9,
   "metadata": {},
   "outputs": [],
   "source": [
    "model.save(\"ppo_wave\")"
   ]
  },
  {
   "cell_type": "code",
   "execution_count": 1,
   "metadata": {},
   "outputs": [
    {
     "ename": "NameError",
     "evalue": "name 'PPO' is not defined",
     "output_type": "error",
     "traceback": [
      "\u001b[1;31m---------------------------------------------------------------------------\u001b[0m",
      "\u001b[1;31mNameError\u001b[0m                                 Traceback (most recent call last)",
      "\u001b[1;32mf:\\Nathan\\!SKRIPSI\\rl-wave\\openai_ppo.ipynb Cell 5'\u001b[0m in \u001b[0;36m<cell line: 1>\u001b[1;34m()\u001b[0m\n\u001b[1;32m----> <a href='vscode-notebook-cell:/f%3A/Nathan/%21SKRIPSI/rl-wave/openai_ppo.ipynb#ch0000007?line=0'>1</a>\u001b[0m model \u001b[39m=\u001b[39m PPO\u001b[39m.\u001b[39mload(\u001b[39m\"\u001b[39m\u001b[39mppo_wave\u001b[39m\u001b[39m\"\u001b[39m)\n",
      "\u001b[1;31mNameError\u001b[0m: name 'PPO' is not defined"
     ]
    }
   ],
   "source": [
    "model = PPO.load(\"ppo_wave\")"
   ]
  },
  {
   "cell_type": "code",
   "execution_count": 5,
   "metadata": {},
   "outputs": [],
   "source": [
    "env.close()"
   ]
  },
  {
   "cell_type": "code",
   "execution_count": 6,
   "metadata": {},
   "outputs": [
    {
     "name": "stdout",
     "output_type": "stream",
     "text": [
      "WAVE environment created.\n"
     ]
    },
    {
     "ename": "UnityCommunicatorStoppedException",
     "evalue": "Communicator has exited.",
     "output_type": "error",
     "traceback": [
      "\u001b[1;31m---------------------------------------------------------------------------\u001b[0m",
      "\u001b[1;31mUnityCommunicatorStoppedException\u001b[0m         Traceback (most recent call last)",
      "\u001b[1;32mf:\\Nathan\\!SKRIPSI\\rl-wave\\openai_ppo.ipynb Cell 7'\u001b[0m in \u001b[0;36m<cell line: 5>\u001b[1;34m()\u001b[0m\n\u001b[0;32m      <a href='vscode-notebook-cell:/f%3A/Nathan/%21SKRIPSI/rl-wave/openai_ppo.ipynb#ch0000006?line=4'>5</a>\u001b[0m \u001b[39mwhile\u001b[39;00m \u001b[39mnot\u001b[39;00m dones:\n\u001b[0;32m      <a href='vscode-notebook-cell:/f%3A/Nathan/%21SKRIPSI/rl-wave/openai_ppo.ipynb#ch0000006?line=5'>6</a>\u001b[0m     action, _states \u001b[39m=\u001b[39m model\u001b[39m.\u001b[39mpredict(obs)\n\u001b[1;32m----> <a href='vscode-notebook-cell:/f%3A/Nathan/%21SKRIPSI/rl-wave/openai_ppo.ipynb#ch0000006?line=6'>7</a>\u001b[0m     obs, rewards, dones, info \u001b[39m=\u001b[39m env\u001b[39m.\u001b[39;49mstep(action)\n\u001b[0;32m      <a href='vscode-notebook-cell:/f%3A/Nathan/%21SKRIPSI/rl-wave/openai_ppo.ipynb#ch0000006?line=8'>9</a>\u001b[0m env\u001b[39m.\u001b[39mclose()\n",
      "File \u001b[1;32mf:\\Nathan\\!SKRIPSI\\rl-wave\\./common\\wave_gym_env.py:53\u001b[0m, in \u001b[0;36mCustomEnv.step\u001b[1;34m(self, action)\u001b[0m\n\u001b[0;32m     <a href='file:///f%3A/Nathan/%21SKRIPSI/rl-wave/./common/wave_gym_env.py?line=50'>51</a>\u001b[0m action_tuple\u001b[39m.\u001b[39madd_discrete(np\u001b[39m.\u001b[39marray([[action]]))\n\u001b[0;32m     <a href='file:///f%3A/Nathan/%21SKRIPSI/rl-wave/./common/wave_gym_env.py?line=51'>52</a>\u001b[0m \u001b[39mself\u001b[39m\u001b[39m.\u001b[39menv\u001b[39m.\u001b[39mset_actions(\u001b[39mself\u001b[39m\u001b[39m.\u001b[39mget_behavior_name(), action_tuple)\n\u001b[1;32m---> <a href='file:///f%3A/Nathan/%21SKRIPSI/rl-wave/./common/wave_gym_env.py?line=52'>53</a>\u001b[0m \u001b[39mself\u001b[39;49m\u001b[39m.\u001b[39;49menv\u001b[39m.\u001b[39;49mstep()\n\u001b[0;32m     <a href='file:///f%3A/Nathan/%21SKRIPSI/rl-wave/./common/wave_gym_env.py?line=54'>55</a>\u001b[0m state, reward, is_done \u001b[39m=\u001b[39m \u001b[39mself\u001b[39m\u001b[39m.\u001b[39mget_current_state()\n\u001b[0;32m     <a href='file:///f%3A/Nathan/%21SKRIPSI/rl-wave/./common/wave_gym_env.py?line=56'>57</a>\u001b[0m \u001b[39mreturn\u001b[39;00m state, reward, is_done, {}\n",
      "File \u001b[1;32mc:\\Users\\nathan\\AppData\\Local\\Programs\\Python\\Python310\\lib\\site-packages\\mlagents_envs\\timers.py:305\u001b[0m, in \u001b[0;36mtimed.<locals>.wrapped\u001b[1;34m(*args, **kwargs)\u001b[0m\n\u001b[0;32m    <a href='file:///c%3A/Users/nathan/AppData/Local/Programs/Python/Python310/lib/site-packages/mlagents_envs/timers.py?line=302'>303</a>\u001b[0m \u001b[39mdef\u001b[39;00m \u001b[39mwrapped\u001b[39m(\u001b[39m*\u001b[39margs, \u001b[39m*\u001b[39m\u001b[39m*\u001b[39mkwargs):\n\u001b[0;32m    <a href='file:///c%3A/Users/nathan/AppData/Local/Programs/Python/Python310/lib/site-packages/mlagents_envs/timers.py?line=303'>304</a>\u001b[0m     \u001b[39mwith\u001b[39;00m hierarchical_timer(func\u001b[39m.\u001b[39m\u001b[39m__qualname__\u001b[39m):\n\u001b[1;32m--> <a href='file:///c%3A/Users/nathan/AppData/Local/Programs/Python/Python310/lib/site-packages/mlagents_envs/timers.py?line=304'>305</a>\u001b[0m         \u001b[39mreturn\u001b[39;00m func(\u001b[39m*\u001b[39margs, \u001b[39m*\u001b[39m\u001b[39m*\u001b[39mkwargs)\n",
      "File \u001b[1;32mc:\\Users\\nathan\\AppData\\Local\\Programs\\Python\\Python310\\lib\\site-packages\\mlagents_envs\\environment.py:350\u001b[0m, in \u001b[0;36mUnityEnvironment.step\u001b[1;34m(self)\u001b[0m\n\u001b[0;32m    <a href='file:///c%3A/Users/nathan/AppData/Local/Programs/Python/Python310/lib/site-packages/mlagents_envs/environment.py?line=347'>348</a>\u001b[0m     outputs \u001b[39m=\u001b[39m \u001b[39mself\u001b[39m\u001b[39m.\u001b[39m_communicator\u001b[39m.\u001b[39mexchange(step_input, \u001b[39mself\u001b[39m\u001b[39m.\u001b[39m_poll_process)\n\u001b[0;32m    <a href='file:///c%3A/Users/nathan/AppData/Local/Programs/Python/Python310/lib/site-packages/mlagents_envs/environment.py?line=348'>349</a>\u001b[0m \u001b[39mif\u001b[39;00m outputs \u001b[39mis\u001b[39;00m \u001b[39mNone\u001b[39;00m:\n\u001b[1;32m--> <a href='file:///c%3A/Users/nathan/AppData/Local/Programs/Python/Python310/lib/site-packages/mlagents_envs/environment.py?line=349'>350</a>\u001b[0m     \u001b[39mraise\u001b[39;00m UnityCommunicatorStoppedException(\u001b[39m\"\u001b[39m\u001b[39mCommunicator has exited.\u001b[39m\u001b[39m\"\u001b[39m)\n\u001b[0;32m    <a href='file:///c%3A/Users/nathan/AppData/Local/Programs/Python/Python310/lib/site-packages/mlagents_envs/environment.py?line=350'>351</a>\u001b[0m \u001b[39mself\u001b[39m\u001b[39m.\u001b[39m_update_behavior_specs(outputs)\n\u001b[0;32m    <a href='file:///c%3A/Users/nathan/AppData/Local/Programs/Python/Python310/lib/site-packages/mlagents_envs/environment.py?line=351'>352</a>\u001b[0m rl_output \u001b[39m=\u001b[39m outputs\u001b[39m.\u001b[39mrl_output\n",
      "\u001b[1;31mUnityCommunicatorStoppedException\u001b[0m: Communicator has exited."
     ]
    }
   ],
   "source": [
    "env = wave_gym_env.CustomEnv(env_path, timescale=2)\n",
    "\n",
    "obs = env.reset()\n",
    "dones = False\n",
    "while not dones:\n",
    "    action, _states = model.predict(obs)\n",
    "    obs, rewards, dones, info = env.step(action)\n",
    "\n",
    "env.close()"
   ]
  },
  {
   "cell_type": "code",
   "execution_count": 7,
   "metadata": {},
   "outputs": [],
   "source": [
    "env.close()"
   ]
  }
 ],
 "metadata": {
  "interpreter": {
   "hash": "fdac1d424f9df1d866b72a8e35a4caee1c4f78e3bed908179de4c636fdd990d3"
  },
  "kernelspec": {
   "display_name": "Python 3.10.4 64-bit",
   "language": "python",
   "name": "python3"
  },
  "language_info": {
   "codemirror_mode": {
    "name": "ipython",
    "version": 3
   },
   "file_extension": ".py",
   "mimetype": "text/x-python",
   "name": "python",
   "nbconvert_exporter": "python",
   "pygments_lexer": "ipython3",
   "version": "3.10.4"
  },
  "orig_nbformat": 4
 },
 "nbformat": 4,
 "nbformat_minor": 2
}
