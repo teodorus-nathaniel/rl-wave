{
 "cells": [
  {
   "cell_type": "code",
   "execution_count": 1,
   "metadata": {},
   "outputs": [],
   "source": [
    "sys.path.insert(0, './common')\n",
    "\n",
    "import sys\n",
    "import wave"
   ]
  },
  {
   "cell_type": "code",
   "execution_count": 2,
   "metadata": {},
   "outputs": [
    {
     "name": "stdout",
     "output_type": "stream",
     "text": [
      "WAVE environment created.\n"
     ]
    }
   ],
   "source": [
    "env_path = 'collectible/Wave'\n",
    "env = wave.WaveEnv(env_path, timescale=2)"
   ]
  },
  {
   "cell_type": "code",
   "execution_count": 6,
   "metadata": {},
   "outputs": [
    {
     "name": "stdout",
     "output_type": "stream",
     "text": [
      "0.020047486\n",
      "0.035822287\n",
      "0.03666377\n",
      "0.048597492\n",
      "0.04582798\n",
      "0.04118249\n",
      "0.039323907\n",
      "0.050987974\n",
      "0.04797615\n",
      "0.045428902\n",
      "0.058790118\n",
      "0.07295366\n",
      "0.08568147\n",
      "0.09480308\n",
      "0.08966581\n",
      "0.09622682\n",
      "0.09094523\n",
      "0.09969255\n",
      "0.10739389\n",
      "0.100980304\n",
      "0.10871039\n",
      "0.11549762\n",
      "0.10594657\n",
      "0.095206976\n",
      "0.08787205\n",
      "0.09461489\n",
      "0.0871807\n",
      "0.07834336\n",
      "0.07271786\n",
      "0.080996856\n",
      "0.077259086\n",
      "0.087393746\n",
      "0.098657794\n",
      "0.10878001\n",
      "0.115560174\n",
      "0.10600279\n",
      "0.097573504\n",
      "0.105648935\n",
      "0.112746485\n",
      "0.10579033\n",
      "0.11071683\n",
      "0.1039664\n",
      "0.111393794\n",
      "0.117909\n",
      "0.10811351\n",
      "0.09947027\n",
      "0.105037436\n",
      "0.09654672\n",
      "0.08675997\n",
      "0.080281295\n",
      "0.08779359\n",
      "0.08105085\n",
      "0.07283489\n",
      "0.06545177\n",
      "0.061133064\n",
      "0.07058638\n",
      "0.067903906\n",
      "0.07667088\n",
      "0.073371634\n",
      "0.08158435\n",
      "0.077787034\n",
      "1.0575843\n",
      "0.08135264\n",
      "0.09107234\n",
      "0.1019635\n",
      "0.11175064\n",
      "0.12054568\n",
      "0.12613316\n",
      "0.11550403\n",
      "0.10379561\n",
      "0.09559007\n",
      "0.10386655\n",
      "0.11114477\n",
      "0.10203497\n",
      "0.094007894\n",
      "0.10244475\n",
      "0.1098671\n",
      "0.10088682\n",
      "0.09066013\n",
      "0.0814701\n",
      "-9.974722\n",
      "-1.985191784799099 81\n"
     ]
    }
   ],
   "source": [
    "import numpy as np\n",
    "\n",
    "state, is_done = env.reset()\n",
    "timestep = 0\n",
    "total_reward = 0\n",
    "while not is_done:\n",
    "    timestep += 1\n",
    "    action = np.random.choice(2)\n",
    "    state, reward, is_done = env.step(action)\n",
    "    print(reward)\n",
    "    total_reward += reward\n",
    "\n",
    "print(total_reward, timestep)"
   ]
  }
 ],
 "metadata": {
  "interpreter": {
   "hash": "fdac1d424f9df1d866b72a8e35a4caee1c4f78e3bed908179de4c636fdd990d3"
  },
  "kernelspec": {
   "display_name": "Python 3.10.4 64-bit",
   "language": "python",
   "name": "python3"
  },
  "language_info": {
   "codemirror_mode": {
    "name": "ipython",
    "version": 3
   },
   "file_extension": ".py",
   "mimetype": "text/x-python",
   "name": "python",
   "nbconvert_exporter": "python",
   "pygments_lexer": "ipython3",
   "version": "3.10.4"
  },
  "orig_nbformat": 4
 },
 "nbformat": 4,
 "nbformat_minor": 2
}
